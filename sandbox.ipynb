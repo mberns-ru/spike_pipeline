{
 "cells": [
  {
   "cell_type": "code",
   "execution_count": null,
   "metadata": {},
   "outputs": [],
   "source": [
    "from raw_metrics import *\n",
    "from classifiers import *\n",
    "import warnings\n",
    "\n",
    "# Suppress all FutureWarnings\n",
    "warnings.simplefilter(action='ignore', category=FutureWarning)\n",
    "\n",
    "#generate_metrics('E:\\\\Processed Through SVMs\\\\NH\\\\On-Task\\\\results-ontask-J_M41_Tail-240513-091849', 'E:\\\\new_output')\n",
    "#generate_metrics(\"E:\\\\Processed Through SVMs\\\\NH\\\\On-Task\\\\results-ontask-J_F73_Left-240909-100824\", \"E:\\\\new_output\")\n",
    "\n",
    "#folder, animal_id, date = generate_metrics(\"E:\\\\Processed Through SVMs\\\\NIHL\\\\On-Task\\\\results-ontask-J_M41_Tail-240517-083227\", 'E:\\\\new_output')\n",
    "run_classifiers('E:\\\\new_output\\\\M41\\\\ontask\\\\NIHL\\\\session_240517', 'M41', '240517')"
   ]
  }
 ],
 "metadata": {
  "kernelspec": {
   "display_name": "ephys",
   "language": "python",
   "name": "python3"
  },
  "language_info": {
   "codemirror_mode": {
    "name": "ipython",
    "version": 3
   },
   "file_extension": ".py",
   "mimetype": "text/x-python",
   "name": "python",
   "nbconvert_exporter": "python",
   "pygments_lexer": "ipython3",
   "version": "3.12.7"
  }
 },
 "nbformat": 4,
 "nbformat_minor": 2
}
